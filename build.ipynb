{
 "cells": [
  {
   "cell_type": "code",
   "execution_count": 2,
   "metadata": {
    "scrolled": true
   },
   "outputs": [
    {
     "data": {
      "application/javascript": [
       "require.undef(\"nbextensions/vpython_libraries/glow.min\");"
      ],
      "text/plain": [
       "<IPython.core.display.Javascript object>"
      ]
     },
     "metadata": {},
     "output_type": "display_data"
    },
    {
     "data": {
      "application/javascript": [
       "require.undef(\"nbextensions/vpython_libraries/glowcomm\");"
      ],
      "text/plain": [
       "<IPython.core.display.Javascript object>"
      ]
     },
     "metadata": {},
     "output_type": "display_data"
    },
    {
     "data": {
      "application/javascript": [
       "require.undef(\"nbextensions/vpython_libraries/jquery-ui.custom.min\");"
      ],
      "text/plain": [
       "<IPython.core.display.Javascript object>"
      ]
     },
     "metadata": {},
     "output_type": "display_data"
    },
    {
     "data": {
      "application/javascript": [
       "require([\"nbextensions/vpython_libraries/glow.min\"], function(){console.log(\"GLOW LOADED\");})"
      ],
      "text/plain": [
       "<IPython.core.display.Javascript object>"
      ]
     },
     "metadata": {},
     "output_type": "display_data"
    },
    {
     "data": {
      "application/javascript": [
       "require([\"nbextensions/vpython_libraries/glowcomm\"], function(){console.log(\"GLOWCOMM LOADED\");})"
      ],
      "text/plain": [
       "<IPython.core.display.Javascript object>"
      ]
     },
     "metadata": {},
     "output_type": "display_data"
    },
    {
     "data": {
      "application/javascript": [
       "require([\"nbextensions/vpython_libraries/jquery-ui.custom.min\"], function(){console.log(\"JQUERY LOADED\");})"
      ],
      "text/plain": [
       "<IPython.core.display.Javascript object>"
      ]
     },
     "metadata": {},
     "output_type": "display_data"
    },
    {
     "data": {
      "text/html": [
       "<div id=\"glowscript\" class=\"glowscript\"></div>"
      ],
      "text/plain": [
       "<IPython.core.display.HTML object>"
      ]
     },
     "metadata": {},
     "output_type": "display_data"
    },
    {
     "data": {
      "application/javascript": [
       "window.__context = { glowscript_container: $(\"#glowscript\").removeAttr(\"id\")}"
      ],
      "text/plain": [
       "<IPython.core.display.Javascript object>"
      ]
     },
     "metadata": {},
     "output_type": "display_data"
    }
   ],
   "source": [
    "from vpython import *\n",
    "import numpy as np\n",
    "from sklearn.preprocessing import normalize\n",
    "\n",
    "from geometry import plane, OBJ\n",
    "worldgeo = []\n",
    "\n",
    "def normal(face):\n",
    "    p1, p2, p3 = face\n",
    "    U = p2 - p1 \n",
    "    V = p3 - p1\n",
    "    \n",
    "    x = U[1]*V[2] - U[2]*V[1]\n",
    "    y = U[2]*V[0] - U[0]*V[2]\n",
    "    z = U[0]*V[1] - U[1]*V[0]\n",
    "    \n",
    "    return normalize( [[x,y,z]], norm='l2').ravel()\n",
    "\n",
    "def upfacing(normal):\n",
    "    return int(bool(abs(np.dot(normal, [0,1,0]))>.5))\n",
    "\n",
    "def display(vertices, tris):\n",
    "    global worldgeo\n",
    "    \n",
    "    texs = [textures.metal, textures.wood]\n",
    "    colors = [color.red, color.blue]\n",
    "    \n",
    "    verts = [vertex(pos=vec(*v),  shininess=0) for i,v in enumerate(vertices)]\n",
    "    \n",
    "    \n",
    "    for i, f in enumerate(tris):\n",
    "        try:\n",
    "             faceverts = [vertices[f[0]],vertices[f[1]],vertices[f[2]]]\n",
    "             n = normal(faceverts)\n",
    "\n",
    "             t = triangle(vs=[verts[f[0]],verts[f[1]],verts[f[2]]], normal=vec(*n), texture=texs[upfacing(n)])        \n",
    "             worldgeo.append(t)\n",
    "#              a = arrow(pos=vec(*np.average(faceverts, axis=0)),axis=vec(*n),shaftwidth=.1, color=colors[upfacing(n)])\n",
    "#              worldgeo.append(a)\n",
    "        except:\n",
    "            print (\"oof\", i)\n",
    "    \n",
    "\n",
    "def clear():\n",
    "    global worldgeo\n",
    "    for g in worldgeo:\n",
    "        g.visible=False\n",
    "        del g\n",
    "        \n",
    "\n"
   ]
  },
  {
   "cell_type": "code",
   "execution_count": 3,
   "metadata": {},
   "outputs": [
    {
     "name": "stdout",
     "output_type": "stream",
     "text": [
      "oof 12661\n"
     ]
    }
   ],
   "source": [
    "obj = OBJ('test2_mesh_maya_export_v2.obj')\n",
    "display(obj.vertices, obj.clean_faces)\n",
    "\n",
    "\n",
    "\n"
   ]
  },
  {
   "cell_type": "code",
   "execution_count": null,
   "metadata": {},
   "outputs": [],
   "source": []
  }
 ],
 "metadata": {
  "kernelspec": {
   "display_name": "Python 3",
   "language": "python",
   "name": "python3"
  },
  "language_info": {
   "codemirror_mode": {
    "name": "ipython",
    "version": 3
   },
   "file_extension": ".py",
   "mimetype": "text/x-python",
   "name": "python",
   "nbconvert_exporter": "python",
   "pygments_lexer": "ipython3",
   "version": "3.6.4"
  }
 },
 "nbformat": 4,
 "nbformat_minor": 2
}
